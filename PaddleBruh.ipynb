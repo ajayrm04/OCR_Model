{
 "cells": [
  {
   "cell_type": "code",
   "execution_count": 1,
   "metadata": {},
   "outputs": [],
   "source": [
    "# Install PaddleOCR and necessary libraries\n",
    "#!pip install paddlepaddle paddleocr\n"
   ]
  },
  {
   "cell_type": "code",
   "execution_count": 2,
   "metadata": {},
   "outputs": [],
   "source": [
    "import cv2\n",
    "from paddleocr import PaddleOCR\n",
    "import numpy as np\n",
    "import csv\n",
    "import tensorflow as tf\n"
   ]
  },
  {
   "cell_type": "code",
   "execution_count": 3,
   "metadata": {},
   "outputs": [
    {
     "name": "stdout",
     "output_type": "stream",
     "text": [
      "[2024/11/16 21:50:30] ppocr DEBUG: Namespace(help='==SUPPRESS==', use_gpu=False, use_xpu=False, use_npu=False, use_mlu=False, ir_optim=True, use_tensorrt=False, min_subgraph_size=15, precision='fp32', gpu_mem=500, gpu_id=0, image_dir=None, page_num=0, det_algorithm='DB', det_model_dir='C:\\\\Users\\\\ajayr/.paddleocr/whl\\\\det\\\\en\\\\en_PP-OCRv3_det_infer', det_limit_side_len=960, det_limit_type='max', det_box_type='quad', det_db_thresh=0.3, det_db_box_thresh=0.6, det_db_unclip_ratio=1.5, max_batch_size=10, use_dilation=False, det_db_score_mode='fast', det_east_score_thresh=0.8, det_east_cover_thresh=0.1, det_east_nms_thresh=0.2, det_sast_score_thresh=0.5, det_sast_nms_thresh=0.2, det_pse_thresh=0, det_pse_box_thresh=0.85, det_pse_min_area=16, det_pse_scale=1, scales=[8, 16, 32], alpha=1.0, beta=1.0, fourier_degree=5, rec_algorithm='SVTR_LCNet', rec_model_dir='C:\\\\Users\\\\ajayr/.paddleocr/whl\\\\rec\\\\en\\\\en_PP-OCRv4_rec_infer', rec_image_inverse=True, rec_image_shape='3, 48, 320', rec_batch_num=6, max_text_length=25, rec_char_dict_path='c:\\\\Users\\\\ajayr\\\\ML\\\\venv\\\\Lib\\\\site-packages\\\\paddleocr\\\\ppocr\\\\utils\\\\en_dict.txt', use_space_char=True, vis_font_path='./doc/fonts/simfang.ttf', drop_score=0.5, e2e_algorithm='PGNet', e2e_model_dir=None, e2e_limit_side_len=768, e2e_limit_type='max', e2e_pgnet_score_thresh=0.5, e2e_char_dict_path='./ppocr/utils/ic15_dict.txt', e2e_pgnet_valid_set='totaltext', e2e_pgnet_mode='fast', use_angle_cls=False, cls_model_dir='C:\\\\Users\\\\ajayr/.paddleocr/whl\\\\cls\\\\ch_ppocr_mobile_v2.0_cls_infer', cls_image_shape='3, 48, 192', label_list=['0', '180'], cls_batch_num=6, cls_thresh=0.9, enable_mkldnn=False, cpu_threads=10, use_pdserving=False, warmup=False, sr_model_dir=None, sr_image_shape='3, 32, 128', sr_batch_num=1, draw_img_save_dir='./inference_results', save_crop_res=False, crop_res_save_dir='./output', use_mp=False, total_process_num=1, process_id=0, benchmark=False, save_log_path='./log_output/', show_log=True, use_onnx=False, return_word_box=False, output='./output', table_max_len=488, table_algorithm='TableAttn', table_model_dir=None, merge_no_span_structure=True, table_char_dict_path=None, formula_algorithm='LaTeXOCR', formula_model_dir=None, formula_char_dict_path=None, formula_batch_num=1, layout_model_dir=None, layout_dict_path=None, layout_score_threshold=0.5, layout_nms_threshold=0.5, kie_algorithm='LayoutXLM', ser_model_dir=None, re_model_dir=None, use_visual_backbone=True, ser_dict_path='../train_data/XFUND/class_list_xfun.txt', ocr_order_method=None, mode='structure', image_orientation=False, layout=True, table=True, formula=False, ocr=True, recovery=False, recovery_to_markdown=False, use_pdf2docx_api=False, invert=False, binarize=False, alphacolor=(255, 255, 255), lang='en', det=True, rec=True, type='ocr', savefile=False, ocr_version='PP-OCRv4', structure_version='PP-StructureV2')\n"
     ]
    }
   ],
   "source": [
    "# Initialize PaddleOCR\n",
    "ocr = PaddleOCR(lang='en')\n",
    "\n",
    "# Define the image path\n",
    "image_dir = \"FoodLabels\"\n",
    "image_path = f\"{image_dir}/Image_CornFlakes.png\"\n",
    "\n",
    "# Load the image\n",
    "image = cv2.imread(image_path)\n"
   ]
  },
  {
   "cell_type": "code",
   "execution_count": null,
   "metadata": {},
   "outputs": [
    {
     "name": "stdout",
     "output_type": "stream",
     "text": [
      "[2024/11/16 21:50:32] ppocr WARNING: Since the angle classifier is not initialized, it will not be used during the forward process\n",
      "[2024/11/16 21:50:33] ppocr DEBUG: dt_boxes num : 78, elapsed : 0.8747687339782715\n"
     ]
    }
   ],
   "source": [
    "# Perform OCR on the image\n",
    "ocr_results = ocr.ocr(image_path)\n",
    "\n",
    "print(ocr_results)\n"
   ]
  },
  {
   "cell_type": "code",
   "execution_count": null,
   "metadata": {},
   "outputs": [
    {
     "name": "stdout",
     "output_type": "stream",
     "text": [
      "[[[6.0, 10.0], [60.0, 7.0], [61.0, 30.0], [7.0, 33.0]], [[227.0, 11.0], [295.0, 8.0], [295.0, 35.0], [228.0, 37.0]], [[322.0, 12.0], [352.0, 12.0], [352.0, 39.0], [322.0, 39.0]], [[403.0, 12.0], [481.0, 9.0], [482.0, 36.0], [404.0, 38.0]], [[8.0, 36.0], [123.0, 36.0], [123.0, 56.0], [8.0, 56.0]], [[244.0, 37.0], [294.0, 37.0], [294.0, 60.0], [244.0, 60.0]], [[415.0, 38.0], [479.0, 38.0], [479.0, 60.0], [415.0, 60.0]], [[7.0, 66.0], [74.0, 66.0], [74.0, 87.0], [7.0, 87.0]], [[258.0, 70.0], [295.0, 70.0], [295.0, 94.0], [258.0, 94.0]], [[315.0, 68.0], [358.0, 68.0], [358.0, 95.0], [315.0, 95.0]], [[439.0, 68.0], [482.0, 72.0], [479.0, 99.0], [436.0, 95.0]], [[8.0, 91.0], [163.0, 91.0], [163.0, 112.0], [8.0, 112.0]], [[258.0, 93.0], [297.0, 96.0], [295.0, 119.0], [257.0, 116.0]], [[316.0, 93.0], [356.0, 93.0], [356.0, 118.0], [316.0, 118.0]], [[8.0, 115.0], [220.0, 115.0], [220.0, 135.0], [8.0, 135.0]], [[258.0, 116.0], [298.0, 119.0], [296.0, 147.0], [256.0, 144.0]], [[9.0, 141.0], [210.0, 141.0], [210.0, 159.0], [9.0, 159.0]], [[257.0, 140.0], [298.0, 144.0], [295.0, 172.0], [254.0, 167.0]], [[9.0, 166.0], [132.0, 166.0], [132.0, 183.0], [9.0, 183.0]], [[269.0, 165.0], [297.0, 169.0], [294.0, 194.0], [266.0, 191.0]], [[322.0, 166.0], [351.0, 166.0], [351.0, 193.0], [322.0, 193.0]], [[9.0, 200.0], [95.0, 200.0], [95.0, 221.0], [9.0, 221.0]], [[254.0, 196.0], [296.0, 199.0], [294.0, 224.0], [252.0, 220.0]], [[10.0, 230.0], [158.0, 230.0], [158.0, 247.0], [10.0, 247.0]], [[251.0, 224.0], [297.0, 227.0], [295.0, 250.0], [250.0, 248.0]], [[430.0, 225.0], [482.0, 228.0], [480.0, 255.0], [428.0, 252.0]], [[18.0, 251.0], [176.0, 251.0], [176.0, 269.0], [18.0, 269.0]], [[257.0, 242.0], [298.0, 247.0], [295.0, 276.0], [254.0, 271.0]], [[18.0, 272.0], [182.0, 272.0], [182.0, 292.0], [18.0, 292.0]], [[258.0, 269.0], [296.0, 269.0], [296.0, 293.0], [258.0, 293.0]], [[322.0, 266.0], [351.0, 266.0], [351.0, 293.0], [322.0, 293.0]], [[439.0, 266.0], [482.0, 269.0], [480.0, 297.0], [437.0, 294.0]], [[18.0, 294.0], [173.0, 294.0], [173.0, 312.0], [18.0, 312.0]], [[259.0, 288.0], [297.0, 291.0], [295.0, 316.0], [257.0, 313.0]], [[438.0, 289.0], [482.0, 292.0], [480.0, 318.0], [436.0, 315.0]], [[8.0, 319.0], [65.0, 319.0], [65.0, 341.0], [8.0, 341.0]], [[258.0, 315.0], [297.0, 318.0], [295.0, 343.0], [257.0, 340.0]], [[438.0, 316.0], [481.0, 319.0], [479.0, 343.0], [437.0, 340.0]], [[7.0, 346.0], [63.0, 346.0], [63.0, 369.0], [7.0, 369.0]], [[242.0, 345.0], [294.0, 345.0], [294.0, 368.0], [242.0, 368.0]], [[322.0, 344.0], [352.0, 344.0], [352.0, 369.0], [322.0, 369.0]], [[419.0, 344.0], [480.0, 347.0], [479.0, 369.0], [418.0, 367.0]], [[444.0, 372.0], [498.0, 372.0], [498.0, 394.0], [444.0, 394.0]], [[7.0, 393.0], [76.0, 393.0], [76.0, 414.0], [7.0, 414.0]], [[236.0, 389.0], [295.0, 392.0], [294.0, 417.0], [235.0, 415.0]], [[379.0, 393.0], [437.0, 396.0], [436.0, 418.0], [378.0, 416.0]], [[461.0, 397.0], [497.0, 397.0], [497.0, 420.0], [461.0, 420.0]], [[8.0, 421.0], [82.0, 421.0], [82.0, 443.0], [8.0, 443.0]], [[243.0, 421.0], [296.0, 424.0], [294.0, 447.0], [242.0, 445.0]], [[384.0, 424.0], [436.0, 424.0], [436.0, 447.0], [384.0, 447.0]], [[461.0, 425.0], [497.0, 425.0], [497.0, 449.0], [461.0, 449.0]], [[7.0, 448.0], [83.0, 450.0], [82.0, 473.0], [7.0, 470.0]], [[243.0, 451.0], [296.0, 451.0], [296.0, 477.0], [243.0, 477.0]], [[385.0, 451.0], [435.0, 451.0], [435.0, 475.0], [385.0, 475.0]], [[461.0, 451.0], [497.0, 451.0], [497.0, 476.0], [461.0, 476.0]], [[8.0, 480.0], [82.0, 480.0], [82.0, 501.0], [8.0, 501.0]], [[238.0, 482.0], [295.0, 482.0], [295.0, 504.0], [238.0, 504.0]], [[384.0, 476.0], [437.0, 479.0], [436.0, 506.0], [383.0, 503.0]], [[461.0, 481.0], [497.0, 481.0], [497.0, 506.0], [461.0, 506.0]], [[8.0, 508.0], [83.0, 508.0], [83.0, 530.0], [8.0, 530.0]], [[244.0, 511.0], [295.0, 511.0], [295.0, 534.0], [244.0, 534.0]], [[385.0, 509.0], [435.0, 509.0], [435.0, 533.0], [385.0, 533.0]], [[461.0, 510.0], [497.0, 510.0], [497.0, 535.0], [461.0, 535.0]], [[8.0, 538.0], [90.0, 538.0], [90.0, 560.0], [8.0, 560.0]], [[241.0, 539.0], [294.0, 539.0], [294.0, 562.0], [241.0, 562.0]], [[389.0, 537.0], [437.0, 540.0], [436.0, 563.0], [387.0, 560.0]], [[462.0, 540.0], [497.0, 540.0], [497.0, 565.0], [462.0, 565.0]], [[7.0, 566.0], [56.0, 566.0], [56.0, 589.0], [7.0, 589.0]], [[241.0, 562.0], [296.0, 566.0], [294.0, 593.0], [239.0, 589.0]], [[382.0, 568.0], [436.0, 568.0], [436.0, 593.0], [382.0, 593.0]], [[462.0, 570.0], [497.0, 570.0], [497.0, 593.0], [462.0, 593.0]], [[7.0, 594.0], [43.0, 594.0], [43.0, 619.0], [7.0, 619.0]], [[244.0, 592.0], [296.0, 596.0], [294.0, 620.0], [242.0, 616.0]], [[383.0, 594.0], [438.0, 597.0], [437.0, 624.0], [382.0, 621.0]], [[462.0, 599.0], [497.0, 599.0], [497.0, 624.0], [462.0, 624.0]], [[8.0, 624.0], [67.0, 624.0], [67.0, 647.0], [8.0, 647.0]], [[371.0, 626.0], [436.0, 629.0], [435.0, 652.0], [370.0, 650.0]], [[461.0, 628.0], [498.0, 628.0], [498.0, 653.0], [461.0, 653.0]]]\n",
      "['ENERGY', '378 kcal', '6%', '260kcal', 'ENERGY FROM FAT', '9kcal', '84kcal', 'TOTALFAT', '1.0g', '0.4%', '9.3g', 'SATURATED FATTY ACIDS', '0.6g', '0.8%', 'MONOUNSATURATED FATTY ACIDS', '0.1g', 'POLYUNSATURATED FATTY ACIDS', '0.2g', 'TRANS FATTY ACIDS', 'og', '0%', 'CHOLESTEROL', 'omg', 'TOTAL CARBOHYDRATES', '86.9g', '36.0 g', 'OFWHICH TOTAL SUGARS', '9.2g', 'OF WHICH ADDED SUGARS', '8.0g', '5%', '2.4g', 'OFWHICH DIETARY FIBRE', '2.5g', '0.8g', 'PROTEIN', '6.7g', '8.5 g', 'SODIUM', '490 mg', '7%', '207 mg', '%RDA', 'VITAMINC', '33.0 mg', '13.9 mg', '21%', 'VITAMIN B1', '1.0 mg', '0.4 mg', '26%', 'VITAMIN B2', '1.2 mg', '0.6 mg', '30%', 'VITAMIN B3', '13.4 mg', '4.2 mg', '38%', 'VITAMIN B6', '1.7 mg', '0.6 mg', '31%', 'VITAMINB12', '0.33 g', '0.4 g', '17%', 'FOLATE', '84.0 g', '39.3 g', '18%', 'IRON', '9.0mg', '3.0 mg', '10%', 'CALCIUM', '236.0 mg', '24%']\n",
      "[0.9972031712532043, 0.9627612829208374, 0.9207022190093994, 0.9817826151847839, 0.9277359247207642, 0.9432714581489563, 0.9710026383399963, 0.9947983026504517, 0.9945178031921387, 0.9905510544776917, 0.9906092286109924, 0.9598183631896973, 0.9891539812088013, 0.9981018304824829, 0.9590108394622803, 0.9119879007339478, 0.9580147862434387, 0.9815478920936584, 0.9443753361701965, 0.9873345494270325, 0.9626733064651489, 0.9961349964141846, 0.9948647618293762, 0.9682800769805908, 0.9914859533309937, 0.9190583229064941, 0.9641238451004028, 0.9617886543273926, 0.9425286650657654, 0.991061806678772, 0.9609060883522034, 0.9885680079460144, 0.9258847236633301, 0.9311474561691284, 0.9922449588775635, 0.9971877932548523, 0.993242621421814, 0.9338924288749695, 0.9952223896980286, 0.9883217811584473, 0.9851456880569458, 0.9873435497283936, 0.9905704259872437, 0.9932663440704346, 0.9804409742355347, 0.9731079339981079, 0.997082531452179, 0.9325302243232727, 0.9487958550453186, 0.9789264798164368, 0.9982566833496094, 0.9468827247619629, 0.9051921367645264, 0.9224584698677063, 0.9992251396179199, 0.9345723986625671, 0.9561184048652649, 0.9645388126373291, 0.9986646175384521, 0.9356698989868164, 0.9024000763893127, 0.9535366892814636, 0.9983759522438049, 0.9730323553085327, 0.8973247408866882, 0.9723555445671082, 0.9816699028015137, 0.9984474182128906, 0.9200503826141357, 0.9862468242645264, 0.999284029006958, 0.9934424161911011, 0.9964252710342407, 0.918689489364624, 0.9916797280311584, 0.9951578378677368, 0.9734290242195129, 0.9980106353759766]\n"
     ]
    }
   ],
   "source": [
    "# Extract Bounding Boxes\n",
    "boxes=[]\n",
    "texts=[]\n",
    "probabilities=[]\n",
    "for line in ocr_results:\n",
    "    # print(line)\n",
    "    for i in line:\n",
    "        boxes.append(i[0])\n",
    "        texts.append(i[1][0])\n",
    "        probabilities.append(i[1][1])\n",
    "\n",
    "print(boxes)\n",
    "print(texts)\n",
    "print(probabilities)\n"
   ]
  },
  {
   "cell_type": "code",
   "execution_count": null,
   "metadata": {},
   "outputs": [],
   "source": [
    "# Helper function to check if boxes are aligned\n",
    "def are_boxes_aligned(box1, box2, axis=\"horizontal\", threshold=10):\n",
    "    \"\"\"Check if two boxes are aligned either horizontally or vertically.\"\"\"\n",
    "    if axis == \"horizontal\":\n",
    "        return abs(box1[0][1] - box2[0][1]) < threshold\n",
    "    elif axis == \"vertical\":\n",
    "        return abs(box1[0][0] - box2[0][0]) < threshold\n"
   ]
  },
  {
   "cell_type": "code",
   "execution_count": null,
   "metadata": {},
   "outputs": [],
   "source": [
    "# Detect tables based on alignment\n",
    "table_candidates = []\n",
    "used_boxes = set()"
   ]
  },
  {
   "cell_type": "code",
   "execution_count": null,
   "metadata": {},
   "outputs": [],
   "source": [
    "for i, box1 in enumerate(boxes):\n",
    "    row_group = [i]  # Initialize a new group\n",
    "    for j, box2 in enumerate(boxes):\n",
    "        if j != i and are_boxes_aligned(box1, box2, axis=\"horizontal\"):\n",
    "            row_group.append(j)\n",
    "    if len(row_group) > 1:  # Only consider groups with more than one element\n",
    "        table_candidates.append(row_group)\n",
    "        used_boxes.update(row_group)"
   ]
  },
  {
   "cell_type": "code",
   "execution_count": null,
   "metadata": {},
   "outputs": [
    {
     "name": "stdout",
     "output_type": "stream",
     "text": [
      "[77, 75, 76]\n"
     ]
    }
   ],
   "source": [
    "print(row_group)"
   ]
  },
  {
   "cell_type": "code",
   "execution_count": null,
   "metadata": {},
   "outputs": [
    {
     "data": {
      "text/plain": [
       "True"
      ]
     },
     "execution_count": 283,
     "metadata": {},
     "output_type": "execute_result"
    }
   ],
   "source": [
    "# Save the image with detected table regions\n",
    "cv2.imwrite(\"detected_tables.jpg\", image)"
   ]
  },
  {
   "cell_type": "code",
   "execution_count": null,
   "metadata": {},
   "outputs": [],
   "source": [
    "image_cv = cv2.imread(image_path)\n",
    "image_height = image_cv.shape[0]\n",
    "image_width = image_cv.shape[1]"
   ]
  },
  {
   "cell_type": "code",
   "execution_count": null,
   "metadata": {},
   "outputs": [],
   "source": [
    "im = image_cv.copy()"
   ]
  },
  {
   "cell_type": "code",
   "execution_count": null,
   "metadata": {},
   "outputs": [],
   "source": [
    "horiz_boxes = []\n",
    "vert_boxes = []\n",
    "\n",
    "for box in boxes:\n",
    "  x_h, x_v = 0,int(box[0][0])\n",
    "  y_h, y_v = int(box[0][1]),0\n",
    "  width_h,width_v = image_width, int(box[2][0]-box[0][0])\n",
    "  height_h,height_v = int(box[2][1]-box[0][1]),image_height\n",
    "\n",
    "  horiz_boxes.append([int(x_h),int(y_h),int(x_h+width_h),int(y_h+height_h)])\n",
    "  vert_boxes.append([int(x_v),int(y_v),int(x_v+width_v),int(y_v+height_v)])\n",
    "\n",
    "  cv2.rectangle(im,(x_h,y_h), (x_h+width_h,y_h+height_h),(0,0,255),1)\n",
    "  cv2.rectangle(im,(x_v,y_v), (x_v+width_v,y_v+height_v),(0,255,0),1)\n"
   ]
  },
  {
   "cell_type": "code",
   "execution_count": null,
   "metadata": {},
   "outputs": [
    {
     "data": {
      "text/plain": [
       "True"
      ]
     },
     "execution_count": 287,
     "metadata": {},
     "output_type": "execute_result"
    }
   ],
   "source": [
    "cv2.imwrite('horiz_vert.jpg',im)"
   ]
  },
  {
   "cell_type": "code",
   "execution_count": null,
   "metadata": {},
   "outputs": [
    {
     "name": "stdout",
     "output_type": "stream",
     "text": [
      "[[0, 10, 530, 30], [0, 11, 530, 35], [0, 12, 530, 39], [0, 12, 530, 36], [0, 36, 530, 56], [0, 37, 530, 60], [0, 38, 530, 60], [0, 66, 530, 87], [0, 70, 530, 94], [0, 68, 530, 95], [0, 68, 530, 99], [0, 91, 530, 112], [0, 93, 530, 119], [0, 93, 530, 118], [0, 115, 530, 135], [0, 116, 530, 147], [0, 141, 530, 159], [0, 140, 530, 172], [0, 166, 530, 183], [0, 165, 530, 194], [0, 166, 530, 193], [0, 200, 530, 221], [0, 196, 530, 224], [0, 230, 530, 247], [0, 224, 530, 250], [0, 225, 530, 255], [0, 251, 530, 269], [0, 242, 530, 276], [0, 272, 530, 292], [0, 269, 530, 293], [0, 266, 530, 293], [0, 266, 530, 297], [0, 294, 530, 312], [0, 288, 530, 316], [0, 289, 530, 318], [0, 319, 530, 341], [0, 315, 530, 343], [0, 316, 530, 343], [0, 346, 530, 369], [0, 345, 530, 368], [0, 344, 530, 369], [0, 344, 530, 369], [0, 372, 530, 394], [0, 393, 530, 414], [0, 389, 530, 417], [0, 393, 530, 418], [0, 397, 530, 420], [0, 421, 530, 443], [0, 421, 530, 447], [0, 424, 530, 447], [0, 425, 530, 449], [0, 448, 530, 473], [0, 451, 530, 477], [0, 451, 530, 475], [0, 451, 530, 476], [0, 480, 530, 501], [0, 482, 530, 504], [0, 476, 530, 506], [0, 481, 530, 506], [0, 508, 530, 530], [0, 511, 530, 534], [0, 509, 530, 533], [0, 510, 530, 535], [0, 538, 530, 560], [0, 539, 530, 562], [0, 537, 530, 563], [0, 540, 530, 565], [0, 566, 530, 589], [0, 562, 530, 593], [0, 568, 530, 593], [0, 570, 530, 593], [0, 594, 530, 619], [0, 592, 530, 620], [0, 594, 530, 624], [0, 599, 530, 624], [0, 624, 530, 647], [0, 626, 530, 652], [0, 628, 530, 653]]\n",
      "[0.9972031712532043, 0.9627612829208374, 0.9207022190093994, 0.9817826151847839, 0.9277359247207642, 0.9432714581489563, 0.9710026383399963, 0.9947983026504517, 0.9945178031921387, 0.9905510544776917, 0.9906092286109924, 0.9598183631896973, 0.9891539812088013, 0.9981018304824829, 0.9590108394622803, 0.9119879007339478, 0.9580147862434387, 0.9815478920936584, 0.9443753361701965, 0.9873345494270325, 0.9626733064651489, 0.9961349964141846, 0.9948647618293762, 0.9682800769805908, 0.9914859533309937, 0.9190583229064941, 0.9641238451004028, 0.9617886543273926, 0.9425286650657654, 0.991061806678772, 0.9609060883522034, 0.9885680079460144, 0.9258847236633301, 0.9311474561691284, 0.9922449588775635, 0.9971877932548523, 0.993242621421814, 0.9338924288749695, 0.9952223896980286, 0.9883217811584473, 0.9851456880569458, 0.9873435497283936, 0.9905704259872437, 0.9932663440704346, 0.9804409742355347, 0.9731079339981079, 0.997082531452179, 0.9325302243232727, 0.9487958550453186, 0.9789264798164368, 0.9982566833496094, 0.9468827247619629, 0.9051921367645264, 0.9224584698677063, 0.9992251396179199, 0.9345723986625671, 0.9561184048652649, 0.9645388126373291, 0.9986646175384521, 0.9356698989868164, 0.9024000763893127, 0.9535366892814636, 0.9983759522438049, 0.9730323553085327, 0.8973247408866882, 0.9723555445671082, 0.9816699028015137, 0.9984474182128906, 0.9200503826141357, 0.9862468242645264, 0.999284029006958, 0.9934424161911011, 0.9964252710342407, 0.918689489364624, 0.9916797280311584, 0.9951578378677368, 0.9734290242195129, 0.9980106353759766]\n"
     ]
    }
   ],
   "source": [
    "horiz_boxes = [[int(value) for value in row] for row in horiz_boxes]\n",
    "print(horiz_boxes)\n",
    "print(probabilities)"
   ]
  },
  {
   "cell_type": "code",
   "execution_count": null,
   "metadata": {},
   "outputs": [],
   "source": [
    "horiz_out = tf.image.non_max_suppression(\n",
    "    horiz_boxes,\n",
    "    probabilities,\n",
    "    max_output_size = 1000,\n",
    "    iou_threshold=0.1,\n",
    "    score_threshold=float('-inf'),\n",
    "    name=None\n",
    ")"
   ]
  },
  {
   "cell_type": "code",
   "execution_count": null,
   "metadata": {},
   "outputs": [
    {
     "name": "stdout",
     "output_type": "stream",
     "text": [
      "[ 0  6  7 13 14 16 19 21 24 26 29 34 35 38 42 46 50 54 58 62 66 70 72 77]\n"
     ]
    }
   ],
   "source": [
    "horiz_lines = np.sort(np.array(horiz_out))\n",
    "print(horiz_lines)"
   ]
  },
  {
   "cell_type": "code",
   "execution_count": null,
   "metadata": {},
   "outputs": [],
   "source": [
    "im_nms = image_cv.copy()"
   ]
  },
  {
   "cell_type": "code",
   "execution_count": null,
   "metadata": {},
   "outputs": [],
   "source": [
    "for val in horiz_lines:\n",
    "  cv2.rectangle(im_nms, (int(horiz_boxes[val][0]),int(horiz_boxes[val][1])), (int(horiz_boxes[val][2]),int(horiz_boxes[val][3])),(0,0,255),1)\n"
   ]
  },
  {
   "cell_type": "code",
   "execution_count": null,
   "metadata": {},
   "outputs": [],
   "source": [
    "vert_out = tf.image.non_max_suppression(\n",
    "    vert_boxes,\n",
    "    probabilities,\n",
    "    max_output_size = 1000,\n",
    "    iou_threshold=0.1,\n",
    "    score_threshold=float('-inf'),\n",
    "    name=None\n",
    ")"
   ]
  },
  {
   "cell_type": "code",
   "execution_count": null,
   "metadata": {},
   "outputs": [
    {
     "name": "stdout",
     "output_type": "stream",
     "text": [
      "tf.Tensor([70 67 13 72 69], shape=(5,), dtype=int32)\n"
     ]
    }
   ],
   "source": [
    "print(vert_out)"
   ]
  },
  {
   "cell_type": "code",
   "execution_count": null,
   "metadata": {},
   "outputs": [
    {
     "name": "stdout",
     "output_type": "stream",
     "text": [
      "[13 67 69 70 72]\n"
     ]
    }
   ],
   "source": [
    "vert_lines = np.sort(np.array(vert_out))\n",
    "print(vert_lines)"
   ]
  },
  {
   "cell_type": "code",
   "execution_count": null,
   "metadata": {},
   "outputs": [
    {
     "data": {
      "text/plain": [
       "True"
      ]
     },
     "execution_count": 296,
     "metadata": {},
     "output_type": "execute_result"
    }
   ],
   "source": [
    "cv2.imwrite('im_nms.jpg',im_nms)"
   ]
  },
  {
   "cell_type": "code",
   "execution_count": null,
   "metadata": {},
   "outputs": [
    {
     "name": "stdout",
     "output_type": "stream",
     "text": [
      "(24, 5)\n",
      "[['', '', '', '', ''], ['', '', '', '', ''], ['', '', '', '', ''], ['', '', '', '', ''], ['', '', '', '', ''], ['', '', '', '', ''], ['', '', '', '', ''], ['', '', '', '', ''], ['', '', '', '', ''], ['', '', '', '', ''], ['', '', '', '', ''], ['', '', '', '', ''], ['', '', '', '', ''], ['', '', '', '', ''], ['', '', '', '', ''], ['', '', '', '', ''], ['', '', '', '', ''], ['', '', '', '', ''], ['', '', '', '', ''], ['', '', '', '', ''], ['', '', '', '', ''], ['', '', '', '', ''], ['', '', '', '', ''], ['', '', '', '', '']]\n"
     ]
    }
   ],
   "source": [
    "out_array = [[\"\" for i in range(len(vert_lines))] for j in range(len(horiz_lines))]\n",
    "print(np.array(out_array).shape)\n",
    "print(out_array)"
   ]
  },
  {
   "cell_type": "code",
   "execution_count": null,
   "metadata": {},
   "outputs": [
    {
     "name": "stdout",
     "output_type": "stream",
     "text": [
      "[316, 0, 356, 656]\n",
      "[7, 0, 56, 656]\n",
      "[382, 0, 436, 656]\n",
      "[462, 0, 497, 656]\n",
      "[244, 0, 294, 656]\n"
     ]
    }
   ],
   "source": [
    "unordered_boxes = []\n",
    "\n",
    "for i in vert_lines:\n",
    "  print(vert_boxes[i])\n",
    "  unordered_boxes.append(vert_boxes[i][0])"
   ]
  },
  {
   "cell_type": "code",
   "execution_count": null,
   "metadata": {},
   "outputs": [
    {
     "name": "stdout",
     "output_type": "stream",
     "text": [
      "[1 4 0 2 3]\n"
     ]
    }
   ],
   "source": [
    "ordered_boxes = np.argsort(unordered_boxes)\n",
    "print(ordered_boxes)"
   ]
  },
  {
   "cell_type": "code",
   "execution_count": null,
   "metadata": {},
   "outputs": [],
   "source": [
    "def intersection(box_1, box_2):\n",
    "  return [box_2[0], box_1[1],box_2[2], box_1[3]]"
   ]
  },
  {
   "cell_type": "code",
   "execution_count": null,
   "metadata": {},
   "outputs": [],
   "source": [
    "def iou(box_1, box_2):\n",
    "\n",
    "  x_1 = max(box_1[0], box_2[0])\n",
    "  y_1 = max(box_1[1], box_2[1])\n",
    "  x_2 = min(box_1[2], box_2[2])\n",
    "  y_2 = min(box_1[3], box_2[3])\n",
    "\n",
    "  inter = abs(max((x_2 - x_1, 0)) * max((y_2 - y_1), 0))\n",
    "  if inter == 0:\n",
    "      return 0\n",
    "\n",
    "  box_1_area = abs((box_1[2] - box_1[0]) * (box_1[3] - box_1[1]))\n",
    "  box_2_area = abs((box_2[2] - box_2[0]) * (box_2[3] - box_2[1]))\n",
    "\n",
    "  return inter / float(box_1_area + box_2_area - inter)"
   ]
  },
  {
   "cell_type": "code",
   "execution_count": null,
   "metadata": {},
   "outputs": [],
   "source": [
    "for i in range(len(horiz_lines)):\n",
    "  for j in range(len(vert_lines)):\n",
    "    resultant = intersection(horiz_boxes[horiz_lines[i]], vert_boxes[vert_lines[ordered_boxes[j]]] )\n",
    "\n",
    "    for b in range(len(boxes)):\n",
    "      the_box = [boxes[b][0][0],boxes[b][0][1],boxes[b][2][0],boxes[b][2][1]]\n",
    "      if(iou(resultant,the_box)>0.1):\n",
    "        out_array[i][j] = texts[b]"
   ]
  },
  {
   "cell_type": "code",
   "execution_count": null,
   "metadata": {},
   "outputs": [],
   "source": [
    "out_array=np.array(out_array)"
   ]
  },
  {
   "cell_type": "code",
   "execution_count": null,
   "metadata": {},
   "outputs": [
    {
     "data": {
      "text/plain": [
       "array([['ENERGY', '378 kcal', '6%', '260kcal', '260kcal'],\n",
       "       ['ENERGY FROM FAT', '9kcal', '', '84kcal', '84kcal'],\n",
       "       ['TOTALFAT', '1.0g', '0.4%', '', '9.3g'],\n",
       "       ['SATURATED FATTY ACIDS', '0.6g', '0.8%', '', ''],\n",
       "       ['MONOUNSATURATED FATTY ACIDS', '0.1g', '', '', ''],\n",
       "       ['POLYUNSATURATED FATTY ACIDS', '0.2g', '', '', ''],\n",
       "       ['TRANS FATTY ACIDS', 'og', '0%', '', ''],\n",
       "       ['CHOLESTEROL', 'omg', '', '', ''],\n",
       "       ['TOTAL CARBOHYDRATES', '9.2g', '', '', '36.0 g'],\n",
       "       ['OFWHICH TOTAL SUGARS', '9.2g', '', '', ''],\n",
       "       ['OF WHICH ADDED SUGARS', '8.0g', '5%', '', '2.4g'],\n",
       "       ['OFWHICH DIETARY FIBRE', '2.5g', '', '', '0.8g'],\n",
       "       ['PROTEIN', '6.7g', '', '', '8.5 g'],\n",
       "       ['SODIUM', '490 mg', '7%', '207 mg', '207 mg'],\n",
       "       ['', '33.0 mg', '', '', '%RDA'],\n",
       "       ['VITAMINC', '33.0 mg', '', '13.9 mg', '21%'],\n",
       "       ['VITAMIN B1', '1.0 mg', '', '0.4 mg', '26%'],\n",
       "       ['VITAMIN B2', '1.2 mg', '', '0.6 mg', '30%'],\n",
       "       ['VITAMIN B3', '13.4 mg', '', '4.2 mg', '38%'],\n",
       "       ['VITAMIN B6', '1.7 mg', '', '0.6 mg', '31%'],\n",
       "       ['VITAMINB12', '0.33 g', '', '0.4 g', '17%'],\n",
       "       ['FOLATE', '84.0 g', '', '39.3 g', '18%'],\n",
       "       ['IRON', '9.0mg', '', '3.0 mg', '10%'],\n",
       "       ['CALCIUM', '', '', '236.0 mg', '24%']], dtype='<U27')"
      ]
     },
     "execution_count": 304,
     "metadata": {},
     "output_type": "execute_result"
    }
   ],
   "source": [
    "out_array"
   ]
  },
  {
   "cell_type": "code",
   "execution_count": null,
   "metadata": {},
   "outputs": [],
   "source": [
    "import pandas as pd"
   ]
  },
  {
   "cell_type": "code",
   "execution_count": null,
   "metadata": {},
   "outputs": [],
   "source": [
    "pd.DataFrame(out_array).to_csv('Final_Table.csv')"
   ]
  }
 ],
 "metadata": {
  "kernelspec": {
   "display_name": "Python 3",
   "language": "python",
   "name": "python3"
  },
  "language_info": {
   "codemirror_mode": {
    "name": "ipython",
    "version": 3
   },
   "file_extension": ".py",
   "mimetype": "text/x-python",
   "name": "python",
   "nbconvert_exporter": "python",
   "pygments_lexer": "ipython3",
   "version": "3.12.0"
  }
 },
 "nbformat": 4,
 "nbformat_minor": 2
}
